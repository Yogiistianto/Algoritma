{
 "cells": [
  {
   "cell_type": "code",
   "execution_count": null,
   "metadata": {
    "vscode": {
     "languageId": "plaintext"
    }
   },
   "outputs": [],
   "source": [
    "import matematika\n",
    "\n",
    "def main():\n",
    "    # Contoh penggunaan fungsi luas lingkaran\n",
    "    jari_jari = 7\n",
    "    hitung_luas_lingkaran = matematika.hitung_luas_lingkaran(jari_jari)\n",
    "    print(f\"Luas lingkaran dengan jari-jari {jari_jari} adalah: {hitung_luas_lingkaran:.2f}\")\n",
    "\n",
    "    # Contoh penggunaan fungsi luas persegi\n",
    "    sisi = 5\n",
    "    hitung_luas_persegi = matematika.hitung_luas_persegi(sisi)\n",
    "    print(f\"Luas persegi dengan sisi {sisi} adalah: {hitung_luas_persegi}\")\n",
    "\n",
    "    # Contoh penggunaan fungsi luas persegi panjang\n",
    "    panjang = 6\n",
    "    lebar = 4\n",
    "    hitung_luas_persegi_panjang = matematika.hitung_luas_persegi_panjang(panjang, lebar)\n",
    "    print(f\"Luas persegi panjang dengan panjang {panjang} dan lebar {lebar} adalah: {hitung_luas_persegi_panjang}\")\n",
    "\n",
    "if __name__ == \"__main__\":\n",
    "    main()"
   ]
  }
 ],
 "metadata": {
  "language_info": {
   "name": "python"
  }
 },
 "nbformat": 4,
 "nbformat_minor": 2
}
