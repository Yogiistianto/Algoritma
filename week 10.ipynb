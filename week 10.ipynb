{
 "cells": [
  {
   "cell_type": "code",
   "execution_count": null,
   "metadata": {},
   "outputs": [],
   "source": [
    "import matematika\n",
    "\n",
    "def main():\n",
    "    # Contoh penggunaan fungsi luas lingkaran\n",
    "    jari_jari = 7\n",
    "    hitung_luas_lingkaran = matematika.hitung_luas_lingkaran(jari_jari)\n",
    "    print(f\"Luas lingkaran dengan jari-jari {jari_jari} adalah: {hitung_luas_lingkaran:.2f}\")\n",
    "\n",
    "    # Contoh penggunaan fungsi luas persegi\n",
    "    sisi = 5\n",
    "    hitung_luas_persegi = matematika.hitung_luas_persegi(sisi)\n",
    "    print(f\"Luas persegi dengan sisi {sisi} adalah: {hitung_luas_persegi}\")\n",
    "\n",
    "    # Contoh penggunaan fungsi luas persegi panjang\n",
    "    panjang = 6\n",
    "    lebar = 4\n",
    "    hitung_luas_persegi_panjang = matematika.hitung_luas_persegi_panjang(panjang, lebar)\n",
    "    print(f\"Luas persegi panjang dengan panjang {panjang} dan lebar {lebar} adalah: {hitung_luas_persegi_panjang}\")\n",
    "\n",
    "if __name__ == \"__main__\":\n",
    "    main()"
   ]
  }
 ],
 "metadata": {
  "kernelspec": {
   "display_name": "Python 3",
   "language": "python",
   "name": "python3"
  },
  "language_info": {
   "name": "python",
   "version": "3.12.1"
  }
 },
 "nbformat": 4,
 "nbformat_minor": 2
}
