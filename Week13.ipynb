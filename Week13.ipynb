{
  "nbformat": 4,
  "nbformat_minor": 0,
  "metadata": {
    "colab": {
      "provenance": [],
      "authorship_tag": "ABX9TyPy/8xjrYsrWL6qzcaLj3QS",
      "include_colab_link": true
    },
    "kernelspec": {
      "name": "python3",
      "display_name": "Python 3"
    },
    "language_info": {
      "name": "python"
    }
  },
  "cells": [
    {
      "cell_type": "markdown",
      "metadata": {
        "id": "view-in-github",
        "colab_type": "text"
      },
      "source": [
        "<a href=\"https://colab.research.google.com/github/Yogiistianto/Algoritma/blob/master/Week13.ipynb\" target=\"_parent\"><img src=\"https://colab.research.google.com/assets/colab-badge.svg\" alt=\"Open In Colab\"/></a>"
      ]
    },
    {
      "cell_type": "code",
      "source": [
        "class AlatTulis:\n",
        "    def __init__(self):\n",
        "        self.items = []\n",
        "\n",
        "    def set_item(self, nama, stok, harga_satuan):\n",
        "        \"\"\"Method untuk memasukkan (setter) data alat tulis\"\"\"\n",
        "        item = {\n",
        "            'nama': nama,\n",
        "            'stok': stok,\n",
        "            'harga_satuan': harga_satuan,\n",
        "            'total_harga': stok * harga_satuan\n",
        "        }\n",
        "        self.items.append(item)\n",
        "\n",
        "    def get_items(self):\n",
        "        \"\"\"Method untuk menampilkan (getter) data alat tulis\"\"\"\n",
        "        return self.items\n",
        "\n",
        "    def total_harga(self):\n",
        "        \"\"\"Method untuk menghitung total harga semua item\"\"\"\n",
        "        return sum(item['total_harga'] for item in self.items)\n",
        "\n",
        "# Membuat instance dari class AlatTulis\n",
        "toko = AlatTulis()\n",
        "\n",
        "# Memasukkan data alat tulis\n",
        "toko.set_item(\"Bolpoint\", 10, 2000)\n",
        "toko.set_item(\"Pensil\", 10, 1000)\n",
        "toko.set_item(\"Penghapus\", 10, 500)\n",
        "\n",
        "# Menampilkan data alat tulis\n",
        "print(\"Daftar Alat Tulis:\")\n",
        "print(\"-\" * 55)\n",
        "print(f\"{'Nama':<14} {'Stok':<8} {'Harga Satuan':<17} {'Total Harga':<15}\")\n",
        "print(\"-\" * 55)\n",
        "\n",
        "for item in toko.get_items():\n",
        "    print(f\"{item['nama']:<15} {item['stok']:<9} Rp {item['harga_satuan']:<12} Rp {item['total_harga']:<12}\")\n",
        "\n",
        "print(\"-\" * 55)\n",
        "print(f\"Total Harga Keseluruhan: Rp {toko.total_harga()}\")"
      ],
      "metadata": {
        "colab": {
          "base_uri": "https://localhost:8080/"
        },
        "id": "wlEiNLHdEsLv",
        "outputId": "91bdc9f4-9493-4b4e-f66f-48fb09321482"
      },
      "execution_count": 20,
      "outputs": [
        {
          "output_type": "stream",
          "name": "stdout",
          "text": [
            "Daftar Alat Tulis:\n",
            "-------------------------------------------------------\n",
            "Nama           Stok     Harga Satuan      Total Harga    \n",
            "-------------------------------------------------------\n",
            "Bolpoint        10        Rp 2000         Rp 20000       \n",
            "Pensil          10        Rp 1000         Rp 10000       \n",
            "Penghapus       10        Rp 500          Rp 5000        \n",
            "-------------------------------------------------------\n",
            "Total Harga Keseluruhan: Rp 35000\n"
          ]
        }
      ]
    }
  ]
}